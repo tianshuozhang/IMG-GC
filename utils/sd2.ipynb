{
 "cells": [
  {
   "cell_type": "code",
   "execution_count": null,
   "metadata": {},
   "outputs": [],
   "source": [
    "from diffusers import StableDiffusionImg2ImgPipeline\n",
    "from get_input import get_img\n",
    "import torch"
   ]
  },
  {
   "cell_type": "code",
   "execution_count": null,
   "metadata": {},
   "outputs": [],
   "source": [
    "model_path=r\"C:\\Users\\17612\\Desktop\\course-management\\AIGC\\img2img\"\n",
    "# pipe = StableDiffusionImg2ImgPipeline.from_pretrained(model_path,torch_dtype=torch.float16,revision=\"fp16\",use_auth_token=True)\n",
    "pipe = StableDiffusionImg2ImgPipeline.from_pretrained(model_path,use_auth_token=True)"
   ]
  },
  {
   "cell_type": "code",
   "execution_count": null,
   "metadata": {},
   "outputs": [],
   "source": [
    "pipe=pipe.to(\"cuda\")"
   ]
  },
  {
   "cell_type": "code",
   "execution_count": null,
   "metadata": {},
   "outputs": [],
   "source": [
    "url = \"http://images.cocodataset.org/val2017/000000039769.jpg\"\n",
    "text=\"The two people in the picture maintain the same pose while changing the background to a desert.\"\n",
    "# text=\"Generate a picture in which three dogs run\"\n",
    "url=\".jpg\"\n",
    "raw_image=get_img(url=url,local_img=True)\n",
    "image = pipe(image=raw_image,prompt=text,strength=0.75, guidance_scale=7.5).images[0]"
   ]
  },
  {
   "cell_type": "code",
   "execution_count": null,
   "metadata": {},
   "outputs": [],
   "source": [
    "image"
   ]
  }
 ],
 "metadata": {
  "kernelspec": {
   "display_name": "AIGC",
   "language": "python",
   "name": "python3"
  },
  "language_info": {
   "codemirror_mode": {
    "name": "ipython",
    "version": 3
   },
   "file_extension": ".py",
   "mimetype": "text/x-python",
   "name": "python",
   "nbconvert_exporter": "python",
   "pygments_lexer": "ipython3",
   "version": "3.10.13"
  }
 },
 "nbformat": 4,
 "nbformat_minor": 2
}
