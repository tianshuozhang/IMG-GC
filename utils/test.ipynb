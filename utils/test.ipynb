{
 "cells": [
  {
   "cell_type": "code",
   "execution_count": 1,
   "id": "initial_id",
   "metadata": {
    "ExecuteTime": {
     "end_time": "2024-03-03T16:55:50.403218100Z",
     "start_time": "2024-03-03T16:55:45.915805Z"
    },
    "collapsed": true
   },
   "outputs": [
    {
     "name": "stdout",
     "output_type": "stream",
     "text": [
      "pygame 2.5.2 (SDL 2.28.3, Python 3.10.13)\n",
      "Hello from the pygame community. https://www.pygame.org/contribute.html\n"
     ]
    }
   ],
   "source": [
    "from models import get_processor_and_model,lora_fit\n",
    "from get_input import get_input\n",
    "from text2voice import save_vocie,voice_show"
   ]
  },
  {
   "cell_type": "code",
   "execution_count": 2,
   "id": "abd55aee7e003bf5",
   "metadata": {
    "ExecuteTime": {
     "end_time": "2024-03-03T16:55:50.629720Z",
     "start_time": "2024-03-03T16:55:50.407162100Z"
    },
    "collapsed": false
   },
   "outputs": [
    {
     "data": {
      "application/vnd.jupyter.widget-view+json": {
       "model_id": "fefcf6473fd84499bbf0791025d25c1b",
       "version_major": 2,
       "version_minor": 0
      },
      "text/plain": [
       "Loading checkpoint shards:   0%|          | 0/2 [00:00<?, ?it/s]"
      ]
     },
     "metadata": {},
     "output_type": "display_data"
    },
    {
     "name": "stderr",
     "output_type": "stream",
     "text": [
      "WARNING:root:Some parameters are on the meta device device because they were offloaded to the cpu.\n"
     ]
    }
   ],
   "source": [
    "device_map = {'language_model':\"cuda\",\\\n",
    "\t'language_projection':'cpu', \\\n",
    "\t'qformer':'cpu', \\\n",
    "\t'query_tokens':'cpu', \\\n",
    "\t'vision_model':'cpu'}\n",
    "modelpath=r\"C:\\Users\\17612\\Desktop\\course-management\\AIGC\\img2text\"\n",
    "processor,model=get_processor_and_model(modelpath=modelpath,device_map=device_map)"
   ]
  },
  {
   "cell_type": "code",
   "execution_count": 3,
   "id": "d0dddce5",
   "metadata": {},
   "outputs": [
    {
     "name": "stdout",
     "output_type": "stream",
     "text": [
      "trainable params: 5,242,880 || all params: 3,749,922,816 || trainable%: 0.13981301102065136\n"
     ]
    }
   ],
   "source": [
    "lora_fit(model)"
   ]
  },
  {
   "cell_type": "code",
   "execution_count": 4,
   "id": "912ab9f9ad084ced",
   "metadata": {
    "ExecuteTime": {
     "end_time": "2024-03-03T16:57:55.264707300Z",
     "start_time": "2024-03-03T16:57:55.199776200Z"
    },
    "collapsed": false
   },
   "outputs": [],
   "source": [
    "# url = \"http://images.cocodataset.org/val2017/000000039769.jpg\"\n",
    "url = \".\\.jpg\"\n",
    "question = \"Question: is there water in the picture?? Answer:\"\n",
    "inputs = get_input(processor=processor,url=url,text=question,local_img=True)"
   ]
  },
  {
   "cell_type": "code",
   "execution_count": 5,
   "id": "927bd7854cc75530",
   "metadata": {
    "ExecuteTime": {
     "end_time": "2024-03-03T16:59:38.979690200Z",
     "start_time": "2024-03-03T16:57:56.335342900Z"
    },
    "collapsed": false
   },
   "outputs": [
    {
     "name": "stdout",
     "output_type": "stream",
     "text": [
      "Question: is there water in the picture?? Answer:\n",
      "yes, there is water in the picture\n"
     ]
    }
   ],
   "source": [
    "out = model.generate(**inputs, max_length=200)\n",
    "answer=processor.decode(out[0], skip_special_tokens=True).strip()\n",
    "print(question)\n",
    "print(answer)"
   ]
  }
 ],
 "metadata": {
  "kernelspec": {
   "display_name": "Python 3",
   "language": "python",
   "name": "python3"
  },
  "language_info": {
   "codemirror_mode": {
    "name": "ipython",
    "version": 3
   },
   "file_extension": ".py",
   "mimetype": "text/x-python",
   "name": "python",
   "nbconvert_exporter": "python",
   "pygments_lexer": "ipython3",
   "version": "3.10.13"
  }
 },
 "nbformat": 4,
 "nbformat_minor": 5
}
